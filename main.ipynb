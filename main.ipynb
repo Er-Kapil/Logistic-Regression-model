{
 "cells": [
  {
   "cell_type": "markdown",
   "id": "73f404b8",
   "metadata": {},
   "source": [
    "**Logistic Regression**  \n",
    "\n",
    "Workflow  \n",
    "\n",
    "*Step 1: Set learning rate and epochs.Initiate random weights and bias values*  \n",
    "*Step 2:Build Logisitic regression function (Sigmoid function)*  \n",
    "*Step 3:Update the parameters using gradient descent*  \n",
    "\n",
    "*Finally we will get the best model (best weights and biases) as it has minimum cost function*  \n",
    "\n",
    "*Step 4:Build the predict function to determine the class of the datapoint*\n"
   ]
  },
  {
   "cell_type": "markdown",
   "id": "2937b374",
   "metadata": {},
   "source": [
    "Importing the dependencies"
   ]
  },
  {
   "cell_type": "code",
   "execution_count": 1,
   "id": "d46334df",
   "metadata": {},
   "outputs": [],
   "source": [
    "# Importing the numpy library\n",
    "import numpy as np"
   ]
  },
  {
   "cell_type": "code",
   "execution_count": null,
   "id": "7a614d18",
   "metadata": {},
   "outputs": [],
   "source": [
    "class logistic_regression:\n",
    "\n",
    "    def __init__(self):\n",
    "        pass\n",
    "    def fit(self):\n",
    "        pass\n",
    "    def update_weights(self):\n",
    "        pass\n",
    "    def predict(self):\n",
    "        pass"
   ]
  }
 ],
 "metadata": {
  "kernelspec": {
   "display_name": "kaps kernel",
   "language": "python",
   "name": ".venv"
  },
  "language_info": {
   "codemirror_mode": {
    "name": "ipython",
    "version": 3
   },
   "file_extension": ".py",
   "mimetype": "text/x-python",
   "name": "python",
   "nbconvert_exporter": "python",
   "pygments_lexer": "ipython3",
   "version": "3.13.1"
  }
 },
 "nbformat": 4,
 "nbformat_minor": 5
}
